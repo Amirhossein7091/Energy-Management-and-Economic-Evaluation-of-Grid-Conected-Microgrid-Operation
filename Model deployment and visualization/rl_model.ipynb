{
 "cells": [
  {
   "cell_type": "code",
   "execution_count": 1,
   "metadata": {},
   "outputs": [],
   "source": [
    "import tensorflow as tf"
   ]
  },
  {
   "cell_type": "code",
   "execution_count": 2,
   "metadata": {},
   "outputs": [],
   "source": [
    "def retrieve_model():\n",
    "    model_averse = tf.keras.models.load_model(\"trained model/RL_averse.h5\")\n",
    "    model_seeking = tf.keras.models.load_model(\"trained model/RL_seeking.h5\")\n",
    "    return model_averse, model_seeking"
   ]
  },
  {
   "cell_type": "code",
   "execution_count": 6,
   "metadata": {},
   "outputs": [
    {
     "name": "stderr",
     "output_type": "stream",
     "text": [
      "/home/chongaih/anaconda3/lib/python3.7/site-packages/sklearn/base.py:318: UserWarning: Trying to unpickle estimator StandardScaler from version 0.22.2.post1 when using version 0.22.1. This might lead to breaking code or invalid results. Use at your own risk.\n",
      "  UserWarning)\n",
      "/home/chongaih/anaconda3/lib/python3.7/site-packages/sklearn/base.py:318: UserWarning: Trying to unpickle estimator StandardScaler from version 0.22.2.post1 when using version 0.22.1. This might lead to breaking code or invalid results. Use at your own risk.\n",
      "  UserWarning)\n"
     ]
    },
    {
     "name": "stdout",
     "output_type": "stream",
     "text": [
      "Risk averse action (pu): 1.00\n",
      "Risk seeking action (pu): 0.20\n"
     ]
    }
   ],
   "source": [
    "if __name__ == \"__main__\":\n",
    "    \n",
    "    import ess # self-built module for battery related function\n",
    "    import numpy as np\n",
    "    \n",
    "    battery_rl_averse = ess.battery_discrete()\n",
    "    battery_rl_seeking = ess.battery_discrete()\n",
    "    \n",
    "    model_averse, model_seeking = retrieve_model()\n",
    "    x = np.array([[1, 1, 1, 0, 0]])# per unit pv, load, price, SOC, average price of past 24 hours\n",
    "    \n",
    "    # Discrete solution ranging from [-1, 1] with interval of 0.2\n",
    "    action_averse = np.argmax(model_averse.predict(x)) \n",
    "    action_seeking = np.argmax(model_seeking.predict(x))\n",
    "    \n",
    "    # Based on the declared action set, return the desired action and power output = action * battery.P_rated\n",
    "    print (\"Risk averse action (pu): {:.2f}\".format(battery_rl_averse.action_set[action_averse]))\n",
    "    print (\"Risk seeking action (pu): {:.2f}\".format(battery_rl_seeking.action_set[action_seeking]))"
   ]
  }
 ],
 "metadata": {
  "kernelspec": {
   "display_name": "Python 3",
   "language": "python",
   "name": "python3"
  },
  "language_info": {
   "codemirror_mode": {
    "name": "ipython",
    "version": 3
   },
   "file_extension": ".py",
   "mimetype": "text/x-python",
   "name": "python",
   "nbconvert_exporter": "python",
   "pygments_lexer": "ipython3",
   "version": "3.7.7"
  }
 },
 "nbformat": 4,
 "nbformat_minor": 4
}
