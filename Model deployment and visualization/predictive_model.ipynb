{
 "cells": [
  {
   "cell_type": "code",
   "execution_count": 1,
   "metadata": {},
   "outputs": [],
   "source": [
    "from tx import tx_model\n",
    "from seq2seq import seq2seq_model"
   ]
  },
  {
   "cell_type": "code",
   "execution_count": 2,
   "metadata": {},
   "outputs": [],
   "source": [
    "def retrieve_model():\n",
    "    # global hyperparameters\n",
    "    # 2 weeks of lagged observation to predict next 24 hours\n",
    "    timesteps_in = 2 * 7 * 24\n",
    "    timesteps_out = 24\n",
    "\n",
    "    # Hyperparameter for load TX model\n",
    "    num_layers = 1\n",
    "    d_model = 64\n",
    "    num_heads = 4\n",
    "    dff = 64\n",
    "    kernel_size = 5\n",
    "    dropout_rate = 0.1\n",
    "    item = 'Load'\n",
    "    directory = \"trained model/\"\n",
    "    model_load = tx_model(num_layers, d_model, num_heads, dff,\n",
    "                          kernel_size, dropout_rate, timesteps_in, \n",
    "                          timesteps_out, item, directory)\n",
    "\n",
    "    # Hyperparameter for price TX model\n",
    "    num_layers = 1\n",
    "    d_model = 64\n",
    "    num_heads = 4\n",
    "    dff = 64\n",
    "    kernel_size = 5\n",
    "    dropout_rate = 0.1\n",
    "    item = 'Price'\n",
    "    directory = \"trained model/\"\n",
    "    model_price = tx_model(num_layers, d_model, num_heads, dff,\n",
    "                           kernel_size, dropout_rate, timesteps_in, \n",
    "                           timesteps_out, item, directory)\n",
    "\n",
    "    # Hyperparameter for PV seq2seq model\n",
    "    encoder_units = 32\n",
    "    decoder_units = 32\n",
    "    num_features = 41\n",
    "    item = 'PV'\n",
    "    directory = \"trained model/\"\n",
    "    model_pv = seq2seq_model(encoder_units, decoder_units, timesteps_in, timesteps_out, num_features, directory)\n",
    "    \n",
    "    return model_load, model_price, model_pv"
   ]
  },
  {
   "cell_type": "code",
   "execution_count": 3,
   "metadata": {},
   "outputs": [],
   "source": [
    "if __name__ == \"__main__\":\n",
    "    model_load, model_price, model_pv = retrieve_model()"
   ]
  }
 ],
 "metadata": {
  "kernelspec": {
   "display_name": "Python 3",
   "language": "python",
   "name": "python3"
  },
  "language_info": {
   "codemirror_mode": {
    "name": "ipython",
    "version": 3
   },
   "file_extension": ".py",
   "mimetype": "text/x-python",
   "name": "python",
   "nbconvert_exporter": "python",
   "pygments_lexer": "ipython3",
   "version": "3.7.7"
  }
 },
 "nbformat": 4,
 "nbformat_minor": 4
}
