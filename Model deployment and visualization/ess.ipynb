{
 "cells": [
  {
   "cell_type": "code",
   "execution_count": 1,
   "metadata": {},
   "outputs": [],
   "source": [
    "import pickle\n",
    "import numpy as np"
   ]
  },
  {
   "cell_type": "code",
   "execution_count": 2,
   "metadata": {},
   "outputs": [],
   "source": [
    "class battery():\n",
    "    def __init__(self):\n",
    "        \"\"\"\n",
    "        P_rated - charge/ discharge rate (kW)\n",
    "        E_rated - rated capacity (kWh)\n",
    "        C_E - energy capital cost ($/kWh)\n",
    "        LC - life cycle\n",
    "        eta - efficiency\n",
    "        DOD - depth of discharge\n",
    "        wear_cost - wear & operation cost ($/kWh/operation)\n",
    "        wear_cost = (C_E * E_rated) / (eta * E_rated * LC * DOD)\n",
    "\n",
    "        As rated power smaller than rated energy, initial SOC is set to be maximumly \n",
    "        rated power away from the rated energy, if not LP does not work as constraint \n",
    "        violated --> rated_power / rated_energy + initial SOC < target SOC\n",
    "        \"\"\" \n",
    "        with open (\"trained model/sc_energy.pkl\", \"rb\") as file:\n",
    "            self.sc_energy = pickle.load(file)\n",
    "        with open (\"trained model/sc_price.pkl\", \"rb\") as file:\n",
    "            self.sc_price = pickle.load(file)\n",
    "        \n",
    "        self.P_rated = self.sc_energy.transform(np.array([[1000]]))[0] # pu\n",
    "        self.E_rated = self.sc_energy.transform(np.array([[5000]]))[0] # pu \n",
    "        self.C_E = self.sc_price.transform(np.array([[171]]))[0] # pu\n",
    "        self.LC = 4996\n",
    "        self.eta = 1.\n",
    "        self.DOD = 1.\n",
    "        self.wear_cost = self.C_E / self.eta / self.DOD / self.LC\n",
    "        self.target_SOC = 0.5 # Decide the backup energy required\n",
    "        self.initial_SOC = self.target_SOC \n",
    "        self.current_SOC = self.initial_SOC\n",
    "        \n",
    "    def update_SOC(self, action):\n",
    "        self.current_SOC = self.current_SOC + action * self.P_rated[0] / self.E_rated[0]\n",
    "        return self.current_SOC"
   ]
  },
  {
   "cell_type": "code",
   "execution_count": 3,
   "metadata": {},
   "outputs": [],
   "source": [
    "class battery_continuous(battery):\n",
    "    def __init__(self):\n",
    "        super(battery_continuous, self).__init__()"
   ]
  },
  {
   "cell_type": "code",
   "execution_count": 4,
   "metadata": {},
   "outputs": [],
   "source": [
    "class battery_discrete(battery):\n",
    "    def __init__(self):\n",
    "        super(battery_discrete, self).__init__()\n",
    "        action_size = 11\n",
    "        self.action_set = np.linspace(-1, 1, num = action_size, endpoint = True)"
   ]
  },
  {
   "cell_type": "code",
   "execution_count": 5,
   "metadata": {},
   "outputs": [
    {
     "name": "stderr",
     "output_type": "stream",
     "text": [
      "/home/chongaih/anaconda3/lib/python3.7/site-packages/sklearn/base.py:318: UserWarning: Trying to unpickle estimator StandardScaler from version 0.22.2.post1 when using version 0.22.1. This might lead to breaking code or invalid results. Use at your own risk.\n",
      "  UserWarning)\n",
      "/home/chongaih/anaconda3/lib/python3.7/site-packages/sklearn/base.py:318: UserWarning: Trying to unpickle estimator StandardScaler from version 0.22.2.post1 when using version 0.22.1. This might lead to breaking code or invalid results. Use at your own risk.\n",
      "  UserWarning)\n"
     ]
    }
   ],
   "source": [
    "if __name__ == \"__main__\":\n",
    "    battery_lp = battery_continuous()\n",
    "    battery_rl = battery_discrete()"
   ]
  }
 ],
 "metadata": {
  "kernelspec": {
   "display_name": "Python 3",
   "language": "python",
   "name": "python3"
  },
  "language_info": {
   "codemirror_mode": {
    "name": "ipython",
    "version": 3
   },
   "file_extension": ".py",
   "mimetype": "text/x-python",
   "name": "python",
   "nbconvert_exporter": "python",
   "pygments_lexer": "ipython3",
   "version": "3.7.7"
  }
 },
 "nbformat": 4,
 "nbformat_minor": 4
}
